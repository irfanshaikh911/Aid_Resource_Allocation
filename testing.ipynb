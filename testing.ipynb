{
 "cells": [
  {
   "cell_type": "code",
   "execution_count": 2,
   "id": "28c61d2c",
   "metadata": {},
   "outputs": [],
   "source": [
    "import pandas as pd"
   ]
  },
  {
   "cell_type": "code",
   "execution_count": 6,
   "id": "ee3327a0",
   "metadata": {},
   "outputs": [
    {
     "data": {
      "text/plain": [
       "(   Cluster_ID  No_of_People   Latitude  Longitude  Distance_from_Inventory_km\n",
       " 0        C001            95  18.221066  73.334918                       64.34\n",
       " 1        C002            83  18.653504  73.377313                       52.65\n",
       " 2        C003            95  18.064789  73.132370                       91.73\n",
       " 3        C004            99  18.046113  73.151892                       91.21\n",
       " 4        C005            94  18.266642  73.267489                       68.27\n",
       " ..        ...           ...        ...        ...                         ...\n",
       " 95       C096            67  18.902110  73.063987                       93.66\n",
       " 96       C097            91  18.986980  73.036478                      100.75\n",
       " 97       C098            42  18.142895  73.512796                       55.50\n",
       " 98       C099            22  18.166264  73.477498                       56.15\n",
       " 99       C100            56  18.542200  73.555921                       31.80\n",
       " \n",
       " [100 rows x 5 columns],\n",
       "            Resource  Quantity  Inventory_Latitude  Inventory_Longitude\n",
       " 0      Medical Kits       135             18.5204              73.8567\n",
       " 1    Emergency Kits       109             18.5204              73.8567\n",
       " 2      Food Packets       137             18.5204              73.8567\n",
       " 3     Water Bottles        94             18.5204              73.8567\n",
       " 4  Inflatable Tubes        68             18.5204              73.8567\n",
       " 5          Blankets        74             18.5204              73.8567)"
      ]
     },
     "execution_count": 6,
     "metadata": {},
     "output_type": "execute_result"
    }
   ],
   "source": [
    "drone = pd.read_csv('drone_data.csv')\n",
    "inventory = pd.read_csv('inventory_data.csv')\n",
    "drone,inventory"
   ]
  },
  {
   "cell_type": "code",
   "execution_count": null,
   "id": "acb9078a",
   "metadata": {},
   "outputs": [],
   "source": []
  }
 ],
 "metadata": {
  "kernelspec": {
   "display_name": "Python 3",
   "language": "python",
   "name": "python3"
  },
  "language_info": {
   "codemirror_mode": {
    "name": "ipython",
    "version": 3
   },
   "file_extension": ".py",
   "mimetype": "text/x-python",
   "name": "python",
   "nbconvert_exporter": "python",
   "pygments_lexer": "ipython3",
   "version": "3.11.4"
  }
 },
 "nbformat": 4,
 "nbformat_minor": 5
}
